{
    "cells": [
        {
            "attachments": {},
            "cell_type": "markdown",
            "metadata": {},
            "source": [
                "## 1. Introduction to Confidence Intervals for Proportions\n",
                "\n",
                "A **confidence interval** provides a range of values within which we expect the true population parameter (in this case, the proportion) to lie, given a certain level of confidence (e.g., 95%). For population proportions, two commonly used methods to calculate these intervals are:\n",
                "\n",
                "- **Wald Interval**: Based on the normal approximation to the binomial distribution.\n",
                "- **Wilson Interval**: Addresses some limitations of the Wald interval, especially with small sample sizes or proportions near 0 or 1."
            ]
        },
        {
            "attachments": {},
            "cell_type": "markdown",
            "metadata": {},
            "source": [
                "## 2. Wald Confidence Interval\n",
                "\n",
                "The Wald interval is calculated using the formula:\n",
                "\n",
                "$$ \\hat{p} \\pm z_{\\alpha/2} \\sqrt{\\frac{\\hat{p}(1 - \\hat{p})}{n}} $$\n",
                "\n",
                "where:\n",
                "- $\\hat{p}$ is the sample proportion.\n",
                "- $n$ is the sample size.\n",
                "- $z_{\\alpha/2}$ is the critical value from the standard normal distribution corresponding to the desired confidence level.\n",
                "\n",
                "However, the Wald interval can perform poorly, especially with small sample sizes or when the true proportion is near 0 or 1. In such cases, the interval may extend beyond the [0, 1] range, which is not meaningful for proportions."
            ]
        },
        {
            "attachments": {},
            "cell_type": "markdown",
            "metadata": {},
            "source": [
                "## 3. Wilson (Score) Confidence Interval\n",
                "\n",
                "The Wilson interval is given by:\n",
                "\n",
                "$$ \\frac{\\hat{p} + \\frac{z^2}{2n} \\pm z \\sqrt{\\frac{\\hat{p}(1 - \\hat{p})}{n} + \\frac{z^2}{4n^2}}}{1 + \\frac{z^2}{n}} $$\n",
                "\n",
                "The Wilson interval is asymmetric and remains within the [0, 1] range, providing more realistic estimates for proportions. It has better coverage properties, meaning the actual confidence level is closer to the nominal level, even with small sample sizes or extreme proportions."
            ]
        },
        {
            "attachments": {},
            "cell_type": "markdown",
            "metadata": {},
            "source": [
                "## 4. Implementation in Python\n",
                "\n",
                "Let's implement both intervals in Python and compare them with a small sample size where the sample proportion is small."
            ]
        },
        {
            "cell_type": "code",
            "execution_count": 1,
            "metadata": {},
            "outputs": [
                {
                    "name": "stdout",
                    "output_type": "stream",
                    "text": [
                        "Sample proportion (p̂): 0.0333\n",
                        "Wald CI:    (-0.0309, 0.0976)\n",
                        "Wilson CI:  (0.0059, 0.1667)\n"
                    ]
                }
            ],
            "source": [
                "import numpy as np\n",
                "from scipy.stats import norm\n",
                "\n",
                "# Sample data\n",
                "n = 30  # Sample size\n",
                "x = 1  # Number of successes\n",
                "p_hat = x / n  # Sample proportion\n",
                "\n",
                "# Confidence level\n",
                "conf_level = 0.95\n",
                "z = norm.ppf(1 - (1 - conf_level) / 2)\n",
                "\n",
                "# Wald confidence interval\n",
                "wald_se = np.sqrt(p_hat * (1 - p_hat) / n)\n",
                "wald_lower = p_hat - z * wald_se\n",
                "wald_upper = p_hat + z * wald_se\n",
                "\n",
                "# Wilson confidence interval\n",
                "denominator = 1 + z**2 / n\n",
                "centre_adj = p_hat + z**2 / (2 * n)\n",
                "adj_std_dev = np.sqrt((p_hat * (1 - p_hat) + z**2 / (4 * n)) / n)\n",
                "wilson_lower = (centre_adj - z * adj_std_dev) / denominator\n",
                "wilson_upper = (centre_adj + z * adj_std_dev) / denominator\n",
                "\n",
                "# Display results\n",
                "print(f\"Sample proportion (p̂): {p_hat:.4f}\")\n",
                "print(f\"Wald CI:    ({wald_lower:.4f}, {wald_upper:.4f})\")\n",
                "print(f\"Wilson CI:  ({wilson_lower:.4f}, {wilson_upper:.4f})\")"
            ]
        },
        {
            "cell_type": "code",
            "execution_count": 0,
            "metadata": {},
            "outputs": [],
            "source": []
        },
        {
            "attachments": {},
            "cell_type": "markdown",
            "metadata": {},
            "source": [
                "## 5. Interpretation of Results\n",
                "\n",
                "In this example, with a sample size of 30 and only 1 success ($\\hat{p} \\approx 0.0333$), the Wald confidence interval produces a negative lower bound, which is not meaningful for a proportion that must lie between 0 and 1. Conversely, the Wilson interval provides a more appropriate range, staying within the valid bounds for a proportion.\n",
                "\n",
                "This example illustrates the limitations of the Wald interval in cases with small sample proportions and highlights the robustness of the Wilson interval in providing accurate confidence intervals under such conditions."
            ]
        }
    ],
    "metadata": {
        "kernelspec": {
            "display_name": "Python 3 (ipykernel)",
            "language": "python",
            "name": "python3"
        }
    },
    "nbformat": 4,
    "nbformat_minor": 4
}
