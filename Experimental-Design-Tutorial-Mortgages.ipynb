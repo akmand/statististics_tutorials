{
 "cells": [
  {
   "cell_type": "markdown",
   "id": "2e572886",
   "metadata": {},
   "source": [
    "# Experimental Design Tutorial: Testing Conversion Rates\n",
    "\n",
    "D. Akman\n",
    "\n",
    "## Introduction\n",
    "\n",
    "In this notebook, we perform a hypothesis test comparing the conversion rates of two mortgage products, new versus existing, using an experimental design rather than observational data. In our controlled experiment, we would like to find out if the new product significantly outperforms the existing one:\n",
    "- **New Product:** Offers innovative elements like flexible payment options, tailored interest rates, and a digital dashboard.\n",
    "- **Existing Product:** Offers a traditional, reliable fixed payment structure and an established application process.\n",
    "\n",
    "Here, we assume 400 borrowers randomly are assigned equally to two groups. To further enhance the robustness of our experimental design and minimise confounding effects, we can incorporate **stratified randomisation**. For instance, if age is a critical factor that might influence conversion rates, we could first stratify borrowers into relevant age groups (e.g., below 40 and 40 or older) and then randomly assign an equal number from each stratum to both groups. This ensures that each group has a similar age distribution, thereby controlling for any age-related differences in conversion behavior.\n",
    "\n",
    "This random assignment minimises confounding variables and allows us to isolate the effect of product features on conversion rates, enabling us to directly assess if the new product significantly outperforms the existing one, as opposed to the correlational insights typically derived from observational studies.\n",
    "\n",
    "We will work through each step using made-up numbers and perform the analysis using Python."
   ]
  },
  {
   "cell_type": "markdown",
   "id": "530c803c",
   "metadata": {},
   "source": [
    "## Define the Hypotheses\n",
    "\n",
    "We wish to test if the conversion rate of the new mortgage product is higher than that of the existing product. \n",
    "\n",
    "### Null Hypothesis\n",
    "$H_0: p_{new} = p_{existing}$\n",
    "\n",
    "### Alternative Hypothesis\n",
    "$H_A: p_{new} > p_{existing}$\n",
    "\n",
    "This is a one-tailed test because we are testing for an increase in the conversion rate for the new product."
   ]
  },
  {
   "cell_type": "markdown",
   "id": "44738767",
   "metadata": {},
   "source": [
    "## Set Up the Experiment and Data\n",
    "\n",
    "\n",
    "- **Group A (New Product):**\n",
    "  - Number of borrowers: $n_A = 200$\n",
    "  - Conversions: $x_A = 60$\n",
    "\n",
    "- **Group B (Existing Product):**\n",
    "  - Number of borrowers: $n_B = 200$\n",
    "  - Conversions: $x_B = 40$\n",
    "\n",
    "The sample conversion rates are:\n",
    "\n",
    "$$\\hat{p}_A = \\frac{60}{200} = 0.30$$\n",
    "\n",
    "\n",
    "$$\\hat{p}_B = \\frac{40}{200} = 0.20$$"
   ]
  },
  {
   "cell_type": "markdown",
   "id": "95a1d9c5",
   "metadata": {},
   "source": [
    "## Calculate the Z-Test Statistic Manually\n",
    "\n",
    "### a. Calculate the Pooled Conversion Rate\n",
    "\n",
    "Under the null hypothesis, we pool the data:\n",
    "\n",
    "$$\\hat{p} = \\frac{x_A + x_B}{n_A + n_B} = \\frac{60 + 40}{200 + 200} = \\frac{100}{400} = 0.25$$\n",
    "\n",
    "### b. Compute the Standard Error (SE)\n",
    "\n",
    "The standard error for the difference in proportions is:\n",
    "\n",
    "$$SE = \\sqrt{\\hat{p}(1-\\hat{p})\\left(\\frac{1}{n_A} + \\frac{1}{n_B}\\right)} = \\sqrt{0.25 \\times 0.75 \\times \\left(\\frac{1}{200} + \\frac{1}{200}\\right)}$$\n",
    "\n",
    "Simplifying further:\n",
    "\n",
    "$$SE = \\sqrt{0.1875 \\times \\frac{2}{200}} = \\sqrt{0.1875 \\times 0.01} = \\sqrt{0.001875} \\approx 0.0433$$\n",
    "\n",
    "### c. Calculate the Z-Statistic\n",
    "\n",
    "The z-statistic is calculated by:\n",
    "\n",
    "$$z = \\frac{\\hat{p}_A - \\hat{p}_B}{SE} = \\frac{0.30 - 0.20}{0.0433} \\approx \\frac{0.10}{0.0433} \\approx 2.31$$\n",
    "\n",
    "For a one-tailed test at a significance level of $\\alpha = 0.05$, the critical z-value is approximately **1.645**. \n",
    "\n",
    "Since $z \\approx 2.31 > 1.645$, we would reject the null hypothesis."
   ]
  },
  {
   "cell_type": "markdown",
   "id": "b235d305",
   "metadata": {},
   "source": [
    "## Python Implementation\n",
    "We can perform the two-proportion z-test using the `statsmodels` package. The function `proportions_ztest` can be used for this purpose."
   ]
  },
  {
   "cell_type": "code",
   "execution_count": 1,
   "id": "de0f21a8",
   "metadata": {},
   "outputs": [
    {
     "name": "stdout",
     "output_type": "stream",
     "text": [
      "Z-statistic: 2.31\n",
      "P-value: 0.0105\n",
      "Reject the null hypothesis: The new product has a higher conversion rate than the existing product.\n"
     ]
    }
   ],
   "source": [
    "import numpy as np\n",
    "from statsmodels.stats.proportion import proportions_ztest\n",
    "\n",
    "# Data for the experiment\n",
    "n_A = 200  # sample size for Group A (New Product)\n",
    "x_A = 60   # conversions for Group A\n",
    "\n",
    "n_B = 200  # sample size for Group B (Existing Product)\n",
    "x_B = 40   # conversions for Group B\n",
    "\n",
    "# Create arrays for the number of successes and the number of observations\n",
    "counts = np.array([x_A, x_B])\n",
    "nobs = np.array([n_A, n_B])\n",
    "\n",
    "# Perform the z-test for proportions\n",
    "# alternative='larger' tests the hypothesis that the proportion in the first group is larger than in the second\n",
    "z_stat, p_value = proportions_ztest(count=counts, nobs=nobs, alternative='larger')\n",
    "\n",
    "print(f\"Z-statistic: {z_stat:.2f}\")\n",
    "print(f\"P-value: {p_value:.4f}\")\n",
    "\n",
    "# Interpretation based on critical value for one-tailed test at alpha=0.05 (approx. 1.645)\n",
    "if z_stat > 1.645:\n",
    "    print(\"Reject the null hypothesis: The new product has a higher conversion rate than the existing product.\")\n",
    "else:\n",
    "    print(\"Fail to reject the null hypothesis: There is not enough evidence that the new product has a higher conversion rate.\")"
   ]
  },
  {
   "cell_type": "markdown",
   "id": "22ed46c9",
   "metadata": {},
   "source": [
    "## Experimental Designs vs Observational Data\n",
    "\n",
    "Experimental designs, like the one in this notebook, have key advantages over observational data when it comes to establishing causal relationships:\n",
    "\n",
    "- **Control Over Confounding Variables:** In an experiment, borrowers are randomly assigned to treatment groups. This randomisation helps ensure that confounding factors (e.g., demographic characteristics, prior financial experiences) are evenly distributed across groups, reducing their impact on the results. In observational studies, these confounders might be unevenly distributed, which can bias the conclusions.\n",
    "\n",
    "- **Causal Inference:** Because experimental designs actively manipulate the treatment (in this case, exposure to different mortgage products) under controlled conditions, they provide stronger evidence for cause-and-effect relationships. Observational data typically only reveal associations, making it difficult to determine whether a change in the mortgage product truly causes a difference in conversion rates.\n",
    "\n",
    "While observational data can be useful for identifying patterns and correlations, experimental designs offer a more robust framework for determining causality by controlling for biases and confounding variables."
   ]
  },
  {
   "cell_type": "markdown",
   "id": "492df8c4",
   "metadata": {},
   "source": [
    "## Test Conclusion\n",
    "\n",
    "Based on our manual calculations and the Python implementation using `statsmodels`, the computed z-statistic is approximately **2.31** with a corresponding p-value of 0.01. \n",
    "\n",
    "Here, we reject the null hypothesis, concluding that the new product has a significantly higher conversion rate than the existing product."
   ]
  },
  {
   "cell_type": "markdown",
   "id": "3a720022",
   "metadata": {},
   "source": [
    "## Confounding Variables\n",
    "\n",
    "While random assignment in experiments helps minimise the impact of confounding variables, there are still a few factors to consider:\n",
    "\n",
    "- **Borrower Characteristics:** Variations in demographics, financial literacy, or prior experience with mortgage products could affect conversion rates.\n",
    "- **Presentation Effects:** Even small differences in how product information is presented (such as layout or language) might influence decisions.\n",
    "- **External Influences:** Economic conditions, competitor behaviour, or seasonal factors might also impact a borrower's decision to convert.\n",
    "\n",
    "It is important to measure or control these potential confounders where possible. In real-world applications, further stratification or regression techniques may be needed to isolate the true effect of the product differences."
   ]
  },
  {
   "cell_type": "markdown",
   "id": "2298a5be",
   "metadata": {},
   "source": [
    "## Teaching Points\n",
    "\n",
    "1. **Random Assignment:** Ensures an unbiased distribution of borrowers between the groups, minimising confounding.\n",
    "1. **Pooled Proportion:** Combines data under the assumption that the conversion rates are equal under the null hypothesis.\n",
    "1. **Standard Error Calculation:** Illustrates the variability expected in the difference between proportions.\n",
    "1. **Z-Test for Proportions:** A robust method to compare conversion rates between two independent groups.\n",
    "1. **Confounding Variables:** Always consider external factors that might affect results. Even with randomisation, borrower characteristics, presentation methods, and external influences may introduce bias.\n",
    "1. **Interpretation:** Rejecting the null hypothesis implies that the new product's conversion rate is significantly higher at the chosen significance level ($\\alpha = 0.05$)."
   ]
  },
  {
   "cell_type": "markdown",
   "id": "bb47d7b4",
   "metadata": {},
   "source": [
    "---"
   ]
  }
 ],
 "metadata": {
  "kernelspec": {
   "display_name": "Python 3 (ipykernel)",
   "language": "python",
   "name": "python3"
  },
  "language_info": {
   "codemirror_mode": {
    "name": "ipython",
    "version": 3
   },
   "file_extension": ".py",
   "mimetype": "text/x-python",
   "name": "python",
   "nbconvert_exporter": "python",
   "pygments_lexer": "ipython3",
   "version": "3.11.9"
  }
 },
 "nbformat": 4,
 "nbformat_minor": 5
}
